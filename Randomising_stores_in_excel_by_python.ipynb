{
 "cells": [
  {
   "cell_type": "code",
   "execution_count": 1,
   "id": "ecebfb07",
   "metadata": {},
   "outputs": [],
   "source": [
    "import pandas as pd\n",
    "import numpy as np"
   ]
  },
  {
   "cell_type": "code",
   "execution_count": 3,
   "id": "90fe7560",
   "metadata": {},
   "outputs": [],
   "source": [
    "bills = pd.read_csv(\"/Users/souravghoshhansda/Library/CloudStorage/OneDrive-Personal/data_exploration_ml/Bills_UK.csv\", encoding='latin-1')"
   ]
  },
  {
   "cell_type": "code",
   "execution_count": 4,
   "id": "cad9e7fc",
   "metadata": {},
   "outputs": [
    {
     "data": {
      "text/html": [
       "<div>\n",
       "<style scoped>\n",
       "    .dataframe tbody tr th:only-of-type {\n",
       "        vertical-align: middle;\n",
       "    }\n",
       "\n",
       "    .dataframe tbody tr th {\n",
       "        vertical-align: top;\n",
       "    }\n",
       "\n",
       "    .dataframe thead th {\n",
       "        text-align: right;\n",
       "    }\n",
       "</style>\n",
       "<table border=\"1\" class=\"dataframe\">\n",
       "  <thead>\n",
       "    <tr style=\"text-align: right;\">\n",
       "      <th></th>\n",
       "      <th>Stores</th>\n",
       "      <th>Date</th>\n",
       "      <th>Location</th>\n",
       "      <th>Cost</th>\n",
       "    </tr>\n",
       "  </thead>\n",
       "  <tbody>\n",
       "    <tr>\n",
       "      <th>0</th>\n",
       "      <td>Aldi Stores</td>\n",
       "      <td>4/20/2024</td>\n",
       "      <td>Magdalen Street, Colchester</td>\n",
       "      <td>22.70£</td>\n",
       "    </tr>\n",
       "    <tr>\n",
       "      <th>1</th>\n",
       "      <td>Yak &amp; Yeti</td>\n",
       "      <td>4/18/2024</td>\n",
       "      <td>Magdalen Street, Colchester</td>\n",
       "      <td>25.35£</td>\n",
       "    </tr>\n",
       "    <tr>\n",
       "      <th>2</th>\n",
       "      <td>The Store Essex University</td>\n",
       "      <td>4/19/2024</td>\n",
       "      <td>Wivenhoe Park, Colchester</td>\n",
       "      <td>10.02£</td>\n",
       "    </tr>\n",
       "    <tr>\n",
       "      <th>3</th>\n",
       "      <td>KFC</td>\n",
       "      <td>4/15/2024</td>\n",
       "      <td>High Street, Colchester</td>\n",
       "      <td>34.23£</td>\n",
       "    </tr>\n",
       "    <tr>\n",
       "      <th>4</th>\n",
       "      <td>Pound Land</td>\n",
       "      <td>1/26/2024</td>\n",
       "      <td>Culver Street, East Colchester</td>\n",
       "      <td>13.50£</td>\n",
       "    </tr>\n",
       "  </tbody>\n",
       "</table>\n",
       "</div>"
      ],
      "text/plain": [
       "                       Stores       Date                        Location  \\\n",
       "0                 Aldi Stores  4/20/2024     Magdalen Street, Colchester   \n",
       "1                  Yak & Yeti  4/18/2024     Magdalen Street, Colchester   \n",
       "2  The Store Essex University  4/19/2024      Wivenhoe Park, Colchester    \n",
       "3                         KFC  4/15/2024         High Street, Colchester   \n",
       "4                  Pound Land  1/26/2024  Culver Street, East Colchester   \n",
       "\n",
       "     Cost  \n",
       "0  22.70£  \n",
       "1  25.35£  \n",
       "2  10.02£  \n",
       "3  34.23£  \n",
       "4  13.50£  "
      ]
     },
     "execution_count": 4,
     "metadata": {},
     "output_type": "execute_result"
    }
   ],
   "source": [
    "bills.head()"
   ]
  },
  {
   "cell_type": "code",
   "execution_count": 6,
   "id": "b0a48ac4",
   "metadata": {},
   "outputs": [
    {
     "data": {
      "text/plain": [
       "['Aldi Stores',\n",
       " 'Yak & Yeti',\n",
       " 'The Store Essex University',\n",
       " 'KFC',\n",
       " 'Pound Land',\n",
       " 'The Sushi CO',\n",
       " 'Kitchen',\n",
       " 'The Sherlock Holmes Museum',\n",
       " \"Mc Donald's\",\n",
       " 'Tesco',\n",
       " 'WH Smith',\n",
       " 'Post Office Ltd',\n",
       " \"Kaspa's Deserts\",\n",
       " 'Five Guys Burgers & Fries',\n",
       " 'University of Essex SU Reception']"
      ]
     },
     "execution_count": 6,
     "metadata": {},
     "output_type": "execute_result"
    }
   ],
   "source": [
    "unique_stores=bills['Stores','Location'].unique().tolist()\n",
    "unique_stores"
   ]
  },
  {
   "cell_type": "code",
   "execution_count": 7,
   "id": "e694332a",
   "metadata": {},
   "outputs": [],
   "source": [
    "random_selection=np.random.choice(unique_stores,100000,replace=True)"
   ]
  },
  {
   "cell_type": "code",
   "execution_count": 9,
   "id": "bb1d0bba",
   "metadata": {},
   "outputs": [
    {
     "data": {
      "text/html": [
       "<div>\n",
       "<style scoped>\n",
       "    .dataframe tbody tr th:only-of-type {\n",
       "        vertical-align: middle;\n",
       "    }\n",
       "\n",
       "    .dataframe tbody tr th {\n",
       "        vertical-align: top;\n",
       "    }\n",
       "\n",
       "    .dataframe thead th {\n",
       "        text-align: right;\n",
       "    }\n",
       "</style>\n",
       "<table border=\"1\" class=\"dataframe\">\n",
       "  <thead>\n",
       "    <tr style=\"text-align: right;\">\n",
       "      <th></th>\n",
       "      <th>Stores_Randomised</th>\n",
       "    </tr>\n",
       "  </thead>\n",
       "  <tbody>\n",
       "    <tr>\n",
       "      <th>0</th>\n",
       "      <td>Mc Donald's</td>\n",
       "    </tr>\n",
       "    <tr>\n",
       "      <th>1</th>\n",
       "      <td>Mc Donald's</td>\n",
       "    </tr>\n",
       "    <tr>\n",
       "      <th>2</th>\n",
       "      <td>Post Office Ltd</td>\n",
       "    </tr>\n",
       "    <tr>\n",
       "      <th>3</th>\n",
       "      <td>Pound Land</td>\n",
       "    </tr>\n",
       "    <tr>\n",
       "      <th>4</th>\n",
       "      <td>The Sushi CO</td>\n",
       "    </tr>\n",
       "    <tr>\n",
       "      <th>...</th>\n",
       "      <td>...</td>\n",
       "    </tr>\n",
       "    <tr>\n",
       "      <th>99995</th>\n",
       "      <td>Aldi Stores</td>\n",
       "    </tr>\n",
       "    <tr>\n",
       "      <th>99996</th>\n",
       "      <td>Post Office Ltd</td>\n",
       "    </tr>\n",
       "    <tr>\n",
       "      <th>99997</th>\n",
       "      <td>Five Guys Burgers &amp; Fries</td>\n",
       "    </tr>\n",
       "    <tr>\n",
       "      <th>99998</th>\n",
       "      <td>The Sherlock Holmes Museum</td>\n",
       "    </tr>\n",
       "    <tr>\n",
       "      <th>99999</th>\n",
       "      <td>WH Smith</td>\n",
       "    </tr>\n",
       "  </tbody>\n",
       "</table>\n",
       "<p>100000 rows × 1 columns</p>\n",
       "</div>"
      ],
      "text/plain": [
       "                Stores_Randomised\n",
       "0                     Mc Donald's\n",
       "1                     Mc Donald's\n",
       "2                 Post Office Ltd\n",
       "3                      Pound Land\n",
       "4                    The Sushi CO\n",
       "...                           ...\n",
       "99995                 Aldi Stores\n",
       "99996             Post Office Ltd\n",
       "99997   Five Guys Burgers & Fries\n",
       "99998  The Sherlock Holmes Museum\n",
       "99999                    WH Smith\n",
       "\n",
       "[100000 rows x 1 columns]"
      ]
     },
     "execution_count": 9,
     "metadata": {},
     "output_type": "execute_result"
    }
   ],
   "source": [
    "random_selection_dataframe=pd.DataFrame(random_selection,columns=['Stores_Randomised'])\n",
    "random_selection_dataframe"
   ]
  },
  {
   "cell_type": "code",
   "execution_count": 10,
   "id": "0119b1c1",
   "metadata": {},
   "outputs": [],
   "source": [
    "random_selection_dataframe.to_csv(\"/Users/souravghoshhansda/Library/CloudStorage/OneDrive-Personal/data_exploration_ml/random_selection.csv\",index=False)"
   ]
  },
  {
   "cell_type": "code",
   "execution_count": null,
   "id": "69eadbf9",
   "metadata": {},
   "outputs": [],
   "source": []
  }
 ],
 "metadata": {
  "kernelspec": {
   "display_name": "Python 3 (ipykernel)",
   "language": "python",
   "name": "python3"
  },
  "language_info": {
   "codemirror_mode": {
    "name": "ipython",
    "version": 3
   },
   "file_extension": ".py",
   "mimetype": "text/x-python",
   "name": "python",
   "nbconvert_exporter": "python",
   "pygments_lexer": "ipython3",
   "version": "3.10.13"
  }
 },
 "nbformat": 4,
 "nbformat_minor": 5
}
