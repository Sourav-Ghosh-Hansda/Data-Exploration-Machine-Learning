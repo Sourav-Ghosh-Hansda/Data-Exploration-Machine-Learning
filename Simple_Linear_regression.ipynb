{
 "cells": [
  {
   "cell_type": "code",
   "execution_count": 1,
   "id": "acce1b0b",
   "metadata": {},
   "outputs": [],
   "source": [
    "import pandas as pd\n",
    "import seaborn as sns\n",
    "import numpy as np\n",
    "import plotly.express as px\n",
    "import matplotlib.pyplot as plt\n",
    "from sklearn.model_selection import train_test_split\n",
    "from scipy.stats import norm, skew\n",
    "from sklearn.preprocessing import OneHotEncoder\n",
    "from sklearn.preprocessing import LabelEncoder\n",
    "from sklearn.preprocessing import MinMaxScaler\n",
    "from sklearn.naive_bayes import GaussianNB\n",
    "from sklearn.linear_model import LogisticRegression\n",
    "from sklearn.neighbors import KNeighborsClassifier  \n",
    "from sklearn.svm import SVC\n",
    "from sklearn.tree import DecisionTreeClassifier \n",
    "from sklearn.ensemble import RandomForestClassifier\n",
    "from xgboost import XGBClassifier\n",
    "from sklearn.ensemble import GradientBoostingClassifier\n",
    "from sklearn import metrics\n",
    "from sklearn.metrics import confusion_matrix, accuracy_score, classification_report, precision_score, recall_score, f1_score\n",
    "from sklearn.model_selection import GridSearchCV\n",
    "from imblearn.over_sampling import SMOTE #generating synthetic samples of the minority class \n",
    "#from imblearn.under_sampling import RandomUnderSampler\n",
    "from imblearn.pipeline import Pipeline\n",
    "from collections import Counter\n",
    "import math\n",
    "from sklearn.preprocessing import StandardScaler\n",
    "from sklearn import linear_model"
   ]
  },
  {
   "cell_type": "code",
   "execution_count": 2,
   "id": "82aeb78d",
   "metadata": {},
   "outputs": [],
   "source": [
    "area_price=pd.read_csv(\"/Users/souravghoshhansda/Library/CloudStorage/OneDrive-Personal/data_exploration_ml/Area_Price.csv\")"
   ]
  },
  {
   "cell_type": "code",
   "execution_count": 3,
   "id": "2a628599",
   "metadata": {},
   "outputs": [
    {
     "data": {
      "text/html": [
       "<div>\n",
       "<style scoped>\n",
       "    .dataframe tbody tr th:only-of-type {\n",
       "        vertical-align: middle;\n",
       "    }\n",
       "\n",
       "    .dataframe tbody tr th {\n",
       "        vertical-align: top;\n",
       "    }\n",
       "\n",
       "    .dataframe thead th {\n",
       "        text-align: right;\n",
       "    }\n",
       "</style>\n",
       "<table border=\"1\" class=\"dataframe\">\n",
       "  <thead>\n",
       "    <tr style=\"text-align: right;\">\n",
       "      <th></th>\n",
       "      <th>Area</th>\n",
       "      <th>Price</th>\n",
       "    </tr>\n",
       "  </thead>\n",
       "  <tbody>\n",
       "    <tr>\n",
       "      <th>0</th>\n",
       "      <td>2600</td>\n",
       "      <td>550000</td>\n",
       "    </tr>\n",
       "    <tr>\n",
       "      <th>1</th>\n",
       "      <td>3000</td>\n",
       "      <td>565000</td>\n",
       "    </tr>\n",
       "    <tr>\n",
       "      <th>2</th>\n",
       "      <td>3200</td>\n",
       "      <td>610000</td>\n",
       "    </tr>\n",
       "    <tr>\n",
       "      <th>3</th>\n",
       "      <td>3600</td>\n",
       "      <td>680000</td>\n",
       "    </tr>\n",
       "    <tr>\n",
       "      <th>4</th>\n",
       "      <td>4000</td>\n",
       "      <td>725000</td>\n",
       "    </tr>\n",
       "    <tr>\n",
       "      <th>...</th>\n",
       "      <td>...</td>\n",
       "      <td>...</td>\n",
       "    </tr>\n",
       "    <tr>\n",
       "      <th>94</th>\n",
       "      <td>4844</td>\n",
       "      <td>617067</td>\n",
       "    </tr>\n",
       "    <tr>\n",
       "      <th>95</th>\n",
       "      <td>9273</td>\n",
       "      <td>740444</td>\n",
       "    </tr>\n",
       "    <tr>\n",
       "      <th>96</th>\n",
       "      <td>6130</td>\n",
       "      <td>812544</td>\n",
       "    </tr>\n",
       "    <tr>\n",
       "      <th>97</th>\n",
       "      <td>9806</td>\n",
       "      <td>677646</td>\n",
       "    </tr>\n",
       "    <tr>\n",
       "      <th>98</th>\n",
       "      <td>9798</td>\n",
       "      <td>742147</td>\n",
       "    </tr>\n",
       "  </tbody>\n",
       "</table>\n",
       "<p>99 rows × 2 columns</p>\n",
       "</div>"
      ],
      "text/plain": [
       "    Area   Price\n",
       "0   2600  550000\n",
       "1   3000  565000\n",
       "2   3200  610000\n",
       "3   3600  680000\n",
       "4   4000  725000\n",
       "..   ...     ...\n",
       "94  4844  617067\n",
       "95  9273  740444\n",
       "96  6130  812544\n",
       "97  9806  677646\n",
       "98  9798  742147\n",
       "\n",
       "[99 rows x 2 columns]"
      ]
     },
     "execution_count": 3,
     "metadata": {},
     "output_type": "execute_result"
    }
   ],
   "source": [
    "area_price"
   ]
  },
  {
   "cell_type": "code",
   "execution_count": 4,
   "id": "ce19cc66",
   "metadata": {},
   "outputs": [
    {
     "name": "stderr",
     "output_type": "stream",
     "text": [
      "/Users/souravghoshhansda/anaconda3/envs/notebook/lib/python3.10/site-packages/seaborn/_oldcore.py:1498: FutureWarning: is_categorical_dtype is deprecated and will be removed in a future version. Use isinstance(dtype, CategoricalDtype) instead\n",
      "  if pd.api.types.is_categorical_dtype(vector):\n",
      "/Users/souravghoshhansda/anaconda3/envs/notebook/lib/python3.10/site-packages/seaborn/_oldcore.py:1498: FutureWarning: is_categorical_dtype is deprecated and will be removed in a future version. Use isinstance(dtype, CategoricalDtype) instead\n",
      "  if pd.api.types.is_categorical_dtype(vector):\n"
     ]
    },
    {
     "data": {
      "text/plain": [
       "<Axes: xlabel='Area', ylabel='Price'>"
      ]
     },
     "execution_count": 4,
     "metadata": {},
     "output_type": "execute_result"
    },
    {
     "data": {
      "image/png": "[encoded data removed]",
      "text/plain": [
       "<Figure size 640x480 with 1 Axes>"
      ]
     },
     "metadata": {},
     "output_type": "display_data"
    }
   ],
   "source": [
    "sns.scatterplot(x='Area',y='Price',data=area_price)"
   ]
  },
  {
   "cell_type": "code",
   "execution_count": 5,
   "id": "b3bece0a",
   "metadata": {},
   "outputs": [],
   "source": [
    "x=area_price.drop('Price',axis=1)\n",
    "y=area_price['Price']"
   ]
  },
  {
   "cell_type": "code",
   "execution_count": 6,
   "id": "ebc7323d",
   "metadata": {},
   "outputs": [
    {
     "data": {
      "text/plain": [
       "(    Area\n",
       " 49  3302\n",
       " 70  8491\n",
       " 68  6588\n",
       " 15  4204\n",
       " 39  3983\n",
       " ..   ...\n",
       " 60  7025\n",
       " 71  7718\n",
       " 14  4073\n",
       " 92  4712\n",
       " 51  6876\n",
       " \n",
       " [79 rows x 1 columns],\n",
       "     Area\n",
       " 62  5876\n",
       " 40  4393\n",
       " 95  9273\n",
       " 18  8229\n",
       " 97  9806\n",
       " 84  5436\n",
       " 64  7250\n",
       " 42  8105\n",
       " 10  4900\n",
       " 0   2600\n",
       " 31  3253\n",
       " 76  8492\n",
       " 47  5272\n",
       " 26  5358\n",
       " 44  7510\n",
       " 4   4000\n",
       " 22  5090\n",
       " 12  4400\n",
       " 88  7387\n",
       " 73  2897,\n",
       " 49    976026\n",
       " 70    635957\n",
       " 68    988978\n",
       " 15    713918\n",
       " 39    582040\n",
       "        ...  \n",
       " 60    745573\n",
       " 71    784970\n",
       " 14    780196\n",
       " 92    638635\n",
       " 51    914000\n",
       " Name: Price, Length: 79, dtype: int64,\n",
       " 62    751103\n",
       " 40    757789\n",
       " 95    740444\n",
       " 18    718395\n",
       " 97    677646\n",
       " 84    932095\n",
       " 64    614333\n",
       " 42    984343\n",
       " 10    785000\n",
       " 0     550000\n",
       " 31    820140\n",
       " 76    911984\n",
       " 47    873188\n",
       " 26    814657\n",
       " 44    831526\n",
       " 4     725000\n",
       " 22    981871\n",
       " 12    805000\n",
       " 88    755020\n",
       " 73    694530\n",
       " Name: Price, dtype: int64)"
      ]
     },
     "execution_count": 6,
     "metadata": {},
     "output_type": "execute_result"
    }
   ],
   "source": [
    "#train-test split\n",
    "x_train,x_test,y_train,y_test=train_test_split(x,y,test_size=0.2,random_state=42)\n",
    "x_train,x_test,y_train,y_test"
   ]
  },
  {
   "cell_type": "code",
   "execution_count": 7,
   "id": "84f16fc7",
   "metadata": {},
   "outputs": [
    {
     "data": {
      "text/html": [
       "<style>#sk-container-id-1 {color: black;}#sk-container-id-1 pre{padding: 0;}#sk-container-id-1 div.sk-toggleable {background-color: white;}#sk-container-id-1 label.sk-toggleable__label {cursor: pointer;display: block;width: 100%;margin-bottom: 0;padding: 0.3em;box-sizing: border-box;text-align: center;}#sk-container-id-1 label.sk-toggleable__label-arrow:before {content: \"▸\";float: left;margin-right: 0.25em;color: #696969;}#sk-container-id-1 label.sk-toggleable__label-arrow:hover:before {color: black;}#sk-container-id-1 div.sk-estimator:hover label.sk-toggleable__label-arrow:before {color: black;}#sk-container-id-1 div.sk-toggleable__content {max-height: 0;max-width: 0;overflow: hidden;text-align: left;background-color: #f0f8ff;}#sk-container-id-1 div.sk-toggleable__content pre {margin: 0.2em;color: black;border-radius: 0.25em;background-color: #f0f8ff;}#sk-container-id-1 input.sk-toggleable__control:checked~div.sk-toggleable__content {max-height: 200px;max-width: 100%;overflow: auto;}#sk-container-id-1 input.sk-toggleable__control:checked~label.sk-toggleable__label-arrow:before {content: \"▾\";}#sk-container-id-1 div.sk-estimator input.sk-toggleable__control:checked~label.sk-toggleable__label {background-color: #d4ebff;}#sk-container-id-1 div.sk-label input.sk-toggleable__control:checked~label.sk-toggleable__label {background-color: #d4ebff;}#sk-container-id-1 input.sk-hidden--visually {border: 0;clip: rect(1px 1px 1px 1px);clip: rect(1px, 1px, 1px, 1px);height: 1px;margin: -1px;overflow: hidden;padding: 0;position: absolute;width: 1px;}#sk-container-id-1 div.sk-estimator {font-family: monospace;background-color: #f0f8ff;border: 1px dotted black;border-radius: 0.25em;box-sizing: border-box;margin-bottom: 0.5em;}#sk-container-id-1 div.sk-estimator:hover {background-color: #d4ebff;}#sk-container-id-1 div.sk-parallel-item::after {content: \"\";width: 100%;border-bottom: 1px solid gray;flex-grow: 1;}#sk-container-id-1 div.sk-label:hover label.sk-toggleable__label {background-color: #d4ebff;}#sk-container-id-1 div.sk-serial::before {content: \"\";position: absolute;border-left: 1px solid gray;box-sizing: border-box;top: 0;bottom: 0;left: 50%;z-index: 0;}#sk-container-id-1 div.sk-serial {display: flex;flex-direction: column;align-items: center;background-color: white;padding-right: 0.2em;padding-left: 0.2em;position: relative;}#sk-container-id-1 div.sk-item {position: relative;z-index: 1;}#sk-container-id-1 div.sk-parallel {display: flex;align-items: stretch;justify-content: center;background-color: white;position: relative;}#sk-container-id-1 div.sk-item::before, #sk-container-id-1 div.sk-parallel-item::before {content: \"\";position: absolute;border-left: 1px solid gray;box-sizing: border-box;top: 0;bottom: 0;left: 50%;z-index: -1;}#sk-container-id-1 div.sk-parallel-item {display: flex;flex-direction: column;z-index: 1;position: relative;background-color: white;}#sk-container-id-1 div.sk-parallel-item:first-child::after {align-self: flex-end;width: 50%;}#sk-container-id-1 div.sk-parallel-item:last-child::after {align-self: flex-start;width: 50%;}#sk-container-id-1 div.sk-parallel-item:only-child::after {width: 0;}#sk-container-id-1 div.sk-dashed-wrapped {border: 1px dashed gray;margin: 0 0.4em 0.5em 0.4em;box-sizing: border-box;padding-bottom: 0.4em;background-color: white;}#sk-container-id-1 div.sk-label label {font-family: monospace;font-weight: bold;display: inline-block;line-height: 1.2em;}#sk-container-id-1 div.sk-label-container {text-align: center;}#sk-container-id-1 div.sk-container {/* jupyter's `normalize.less` sets `[hidden] { display: none; }` but bootstrap.min.css set `[hidden] { display: none !important; }` so we also need the `!important` here to be able to override the default hidden behavior on the sphinx rendered scikit-learn.org. See: https://github.com/scikit-learn/scikit-learn/issues/21755 */display: inline-block !important;position: relative;}#sk-container-id-1 div.sk-text-repr-fallback {display: none;}</style><div id=\"sk-container-id-1\" class=\"sk-top-container\"><div class=\"sk-text-repr-fallback\"><pre>LinearRegression()</pre><b>In a Jupyter environment, please rerun this cell to show the HTML representation or trust the notebook. <br />On GitHub, the HTML representation is unable to render, please try loading this page with nbviewer.org.</b></div><div class=\"sk-container\" hidden><div class=\"sk-item\"><div class=\"sk-estimator sk-toggleable\"><input class=\"sk-toggleable__control sk-hidden--visually\" id=\"sk-estimator-id-1\" type=\"checkbox\" checked><label for=\"sk-estimator-id-1\" class=\"sk-toggleable__label sk-toggleable__label-arrow\">LinearRegression</label><div class=\"sk-toggleable__content\"><pre>LinearRegression()</pre></div></div></div></div></div>"
      ],
      "text/plain": [
       "LinearRegression()"
      ]
     },
     "execution_count": 7,
     "metadata": {},
     "output_type": "execute_result"
    }
   ],
   "source": [
    "linear_reg=linear_model.LinearRegression()\n",
    "linear_reg.fit(x_train,y_train)"
   ]
  },
  {
   "cell_type": "code",
   "execution_count": 8,
   "id": "8925bd1d",
   "metadata": {},
   "outputs": [],
   "source": [
    "input = np.array([3300])"
   ]
  },
  {
   "cell_type": "code",
   "execution_count": 9,
   "id": "b2823063",
   "metadata": {},
   "outputs": [
    {
     "name": "stderr",
     "output_type": "stream",
     "text": [
      "/Users/souravghoshhansda/anaconda3/envs/notebook/lib/python3.10/site-packages/sklearn/base.py:464: UserWarning: X does not have valid feature names, but LinearRegression was fitted with feature names\n",
      "  warnings.warn(\n"
     ]
    }
   ],
   "source": [
    "input_reshaped = input.reshape(-1, 1)\n",
    "prediction = linear_reg.predict(input_reshaped)"
   ]
  },
  {
   "cell_type": "code",
   "execution_count": 10,
   "id": "7e3a284a",
   "metadata": {},
   "outputs": [
    {
     "data": {
      "text/plain": [
       "array([735187.38697518])"
      ]
     },
     "execution_count": 10,
     "metadata": {},
     "output_type": "execute_result"
    }
   ],
   "source": [
    "prediction"
   ]
  },
  {
   "cell_type": "code",
   "execution_count": 11,
   "id": "7cb1501f",
   "metadata": {},
   "outputs": [
    {
     "data": {
      "text/plain": [
       "array([11.48131018])"
      ]
     },
     "execution_count": 11,
     "metadata": {},
     "output_type": "execute_result"
    }
   ],
   "source": [
    "linear_reg.coef_"
   ]
  },
  {
   "cell_type": "code",
   "execution_count": 12,
   "id": "adc84c3f",
   "metadata": {},
   "outputs": [
    {
     "data": {
      "text/plain": [
       "697299.063378724"
      ]
     },
     "execution_count": 12,
     "metadata": {},
     "output_type": "execute_result"
    }
   ],
   "source": [
    "linear_reg.intercept_"
   ]
  },
  {
   "cell_type": "code",
   "execution_count": 13,
   "id": "034179a4",
   "metadata": {},
   "outputs": [
    {
     "data": {
      "text/plain": [
       "735187.386972724"
      ]
     },
     "execution_count": 13,
     "metadata": {},
     "output_type": "execute_result"
    }
   ],
   "source": [
    "11.48131018*3300+697299.063378724"
   ]
  },
  {
   "cell_type": "code",
   "execution_count": 14,
   "id": "9f7862cc",
   "metadata": {},
   "outputs": [
    {
     "data": {
      "text/plain": [
       "array([764763.24200078, 747736.45900274, 803765.25268478, 791778.76485608,\n",
       "       809884.79101111, 759711.46552126, 780538.56218913, 790355.08239367,\n",
       "       753557.48326438, 727150.46984866, 734647.76539669, 794798.34943362,\n",
       "       757828.53065161, 758815.92332716, 783523.70283612, 743224.30410171,\n",
       "       755738.93219872, 747816.828174  , 782111.50168389, 730560.41897234])"
      ]
     },
     "execution_count": 14,
     "metadata": {},
     "output_type": "execute_result"
    }
   ],
   "source": [
    "y_pred=linear_reg.predict(x_test)\n",
    "y_pred"
   ]
  },
  {
   "cell_type": "code",
   "execution_count": 23,
   "id": "f52745f6",
   "metadata": {},
   "outputs": [
    {
     "data": {
      "text/plain": [
       "12552683097.803013"
      ]
     },
     "execution_count": 23,
     "metadata": {},
     "output_type": "execute_result"
    }
   ],
   "source": [
    "#calculation of evaluation of regression metrics\n",
    "from sklearn.metrics import mean_squared_error, mean_absolute_error, median_absolute_error, explained_variance_score, r2_score\n",
    "mse = mean_squared_error(y_test, y_pred)\n",
    "mse"
   ]
  },
  {
   "cell_type": "code",
   "execution_count": 24,
   "id": "0f5dc4fb",
   "metadata": {},
   "outputs": [
    {
     "data": {
      "text/plain": [
       "112038.75712360886"
      ]
     },
     "execution_count": 24,
     "metadata": {},
     "output_type": "execute_result"
    }
   ],
   "source": [
    "rmse = np.sqrt(mse)\n",
    "rmse"
   ]
  },
  {
   "cell_type": "code",
   "execution_count": 25,
   "id": "9582c3ae",
   "metadata": {},
   "outputs": [
    {
     "data": {
      "text/plain": [
       "91018.43925742629"
      ]
     },
     "execution_count": 25,
     "metadata": {},
     "output_type": "execute_result"
    }
   ],
   "source": [
    "mae = mean_absolute_error(y_test, y_pred)\n",
    "mae"
   ]
  },
  {
   "cell_type": "code",
   "execution_count": 18,
   "id": "6dde6d88",
   "metadata": {},
   "outputs": [
    {
     "name": "stdout",
     "output_type": "stream",
     "text": [
      "Mean Squared Absolute Error (MSAE): 8284356284.8578\n"
     ]
    }
   ],
   "source": [
    "msae = mae ** 2\n",
    "print(f\"Mean Squared Absolute Error (MSAE): {msae}\")\n",
    "# Mean Squared Absolute Error (MSAE) - There is no direct function, we can define it as MAE squared"
   ]
  },
  {
   "cell_type": "code",
   "execution_count": 19,
   "id": "e788dd6f",
   "metadata": {},
   "outputs": [
    {
     "name": "stdout",
     "output_type": "stream",
     "text": [
      "Median Absolute Error (MedAE): 68352.50877042825\n"
     ]
    }
   ],
   "source": [
    "medae = median_absolute_error(y_test, y_pred)\n",
    "print(f\"Median Absolute Error (MedAE): {medae}\")"
   ]
  },
  {
   "cell_type": "code",
   "execution_count": 20,
   "id": "b8a8ca3b",
   "metadata": {},
   "outputs": [
    {
     "name": "stdout",
     "output_type": "stream",
     "text": [
      "Explained Variance Score: 0.01113702975494879\n"
     ]
    }
   ],
   "source": [
    "explained_variance = explained_variance_score(y_test, y_pred)\n",
    "print(f\"Explained Variance Score: {explained_variance}\")"
   ]
  },
  {
   "cell_type": "code",
   "execution_count": 21,
   "id": "1f39d53f",
   "metadata": {},
   "outputs": [
    {
     "name": "stdout",
     "output_type": "stream",
     "text": [
      "R^2 Score: -0.022386426258041325\n"
     ]
    }
   ],
   "source": [
    "r2 = r2_score(y_test, y_pred)\n",
    "print(f\"R^2 Score: {r2}\")"
   ]
  },
  {
   "cell_type": "code",
   "execution_count": 22,
   "id": "e9f66014",
   "metadata": {},
   "outputs": [
    {
     "name": "stdout",
     "output_type": "stream",
     "text": [
      "Adjusted R^2 Score: -0.07918567216126582\n"
     ]
    }
   ],
   "source": [
    "n = len(y_test)  # Number of observations\n",
    "p = 1  # Number of predictor variables\n",
    "adjusted_r2 = 1 - (1 - r2) * (n - 1) / (n - p - 1)\n",
    "print(f\"Adjusted R^2 Score: {adjusted_r2}\")"
   ]
  },
  {
   "cell_type": "code",
   "execution_count": 26,
   "id": "68a13a40",
   "metadata": {},
   "outputs": [],
   "source": [
    "import statsmodels.api as sm"
   ]
  },
  {
   "cell_type": "code",
   "execution_count": 27,
   "id": "3920aa77",
   "metadata": {},
   "outputs": [
    {
     "data": {
      "text/html": [
       "<table class=\"simpletable\">\n",
       "<caption>OLS Regression Results</caption>\n",
       "<tr>\n",
       "  <th>Dep. Variable:</th>          <td>Price</td>      <th>  R-squared (uncentered):</th>      <td>   0.882</td>\n",
       "</tr>\n",
       "<tr>\n",
       "  <th>Model:</th>                   <td>OLS</td>       <th>  Adj. R-squared (uncentered):</th> <td>   0.880</td>\n",
       "</tr>\n",
       "<tr>\n",
       "  <th>Method:</th>             <td>Least Squares</td>  <th>  F-statistic:       </th>          <td>   581.5</td>\n",
       "</tr>\n",
       "<tr>\n",
       "  <th>Date:</th>             <td>Sat, 29 Jun 2024</td> <th>  Prob (F-statistic):</th>          <td>6.66e-38</td>\n",
       "</tr>\n",
       "<tr>\n",
       "  <th>Time:</th>                 <td>22:36:07</td>     <th>  Log-Likelihood:    </th>          <td> -1099.1</td>\n",
       "</tr>\n",
       "<tr>\n",
       "  <th>No. Observations:</th>      <td>    79</td>      <th>  AIC:               </th>          <td>   2200.</td>\n",
       "</tr>\n",
       "<tr>\n",
       "  <th>Df Residuals:</th>          <td>    78</td>      <th>  BIC:               </th>          <td>   2203.</td>\n",
       "</tr>\n",
       "<tr>\n",
       "  <th>Df Model:</th>              <td>     1</td>      <th>                     </th>              <td> </td>   \n",
       "</tr>\n",
       "<tr>\n",
       "  <th>Covariance Type:</th>      <td>nonrobust</td>    <th>                     </th>              <td> </td>   \n",
       "</tr>\n",
       "</table>\n",
       "<table class=\"simpletable\">\n",
       "<tr>\n",
       "    <td></td>      <th>coef</th>     <th>std err</th>      <th>t</th>      <th>P>|t|</th>  <th>[0.025</th>    <th>0.975]</th>  \n",
       "</tr>\n",
       "<tr>\n",
       "  <th>Area</th> <td>  115.5052</td> <td>    4.790</td> <td>   24.114</td> <td> 0.000</td> <td>  105.969</td> <td>  125.041</td>\n",
       "</tr>\n",
       "</table>\n",
       "<table class=\"simpletable\">\n",
       "<tr>\n",
       "  <th>Omnibus:</th>       <td> 0.456</td> <th>  Durbin-Watson:     </th> <td>   2.302</td>\n",
       "</tr>\n",
       "<tr>\n",
       "  <th>Prob(Omnibus):</th> <td> 0.796</td> <th>  Jarque-Bera (JB):  </th> <td>   0.587</td>\n",
       "</tr>\n",
       "<tr>\n",
       "  <th>Skew:</th>          <td>-0.158</td> <th>  Prob(JB):          </th> <td>   0.746</td>\n",
       "</tr>\n",
       "<tr>\n",
       "  <th>Kurtosis:</th>      <td> 2.721</td> <th>  Cond. No.          </th> <td>    1.00</td>\n",
       "</tr>\n",
       "</table><br/><br/>Notes:<br/>[1] R² is computed without centering (uncentered) since the model does not contain a constant.<br/>[2] Standard Errors assume that the covariance matrix of the errors is correctly specified."
      ],
      "text/latex": [
       "\\begin{center}\n",
       "\\begin{tabular}{lclc}\n",
       "\\toprule\n",
       "\\textbf{Dep. Variable:}    &      Price       & \\textbf{  R-squared (uncentered):}      &     0.882   \\\\\n",
       "\\textbf{Model:}            &       OLS        & \\textbf{  Adj. R-squared (uncentered):} &     0.880   \\\\\n",
       "\\textbf{Method:}           &  Least Squares   & \\textbf{  F-statistic:       }          &     581.5   \\\\\n",
       "\\textbf{Date:}             & Sat, 29 Jun 2024 & \\textbf{  Prob (F-statistic):}          &  6.66e-38   \\\\\n",
       "\\textbf{Time:}             &     22:36:07     & \\textbf{  Log-Likelihood:    }          &   -1099.1   \\\\\n",
       "\\textbf{No. Observations:} &          79      & \\textbf{  AIC:               }          &     2200.   \\\\\n",
       "\\textbf{Df Residuals:}     &          78      & \\textbf{  BIC:               }          &     2203.   \\\\\n",
       "\\textbf{Df Model:}         &           1      & \\textbf{                     }          &             \\\\\n",
       "\\textbf{Covariance Type:}  &    nonrobust     & \\textbf{                     }          &             \\\\\n",
       "\\bottomrule\n",
       "\\end{tabular}\n",
       "\\begin{tabular}{lcccccc}\n",
       "              & \\textbf{coef} & \\textbf{std err} & \\textbf{t} & \\textbf{P$> |$t$|$} & \\textbf{[0.025} & \\textbf{0.975]}  \\\\\n",
       "\\midrule\n",
       "\\textbf{Area} &     115.5052  &        4.790     &    24.114  &         0.000        &      105.969    &      125.041     \\\\\n",
       "\\bottomrule\n",
       "\\end{tabular}\n",
       "\\begin{tabular}{lclc}\n",
       "\\textbf{Omnibus:}       &  0.456 & \\textbf{  Durbin-Watson:     } &    2.302  \\\\\n",
       "\\textbf{Prob(Omnibus):} &  0.796 & \\textbf{  Jarque-Bera (JB):  } &    0.587  \\\\\n",
       "\\textbf{Skew:}          & -0.158 & \\textbf{  Prob(JB):          } &    0.746  \\\\\n",
       "\\textbf{Kurtosis:}      &  2.721 & \\textbf{  Cond. No.          } &     1.00  \\\\\n",
       "\\bottomrule\n",
       "\\end{tabular}\n",
       "%\\caption{OLS Regression Results}\n",
       "\\end{center}\n",
       "\n",
       "Notes: \\newline\n",
       " [1] R² is computed without centering (uncentered) since the model does not contain a constant. \\newline\n",
       " [2] Standard Errors assume that the covariance matrix of the errors is correctly specified."
      ],
      "text/plain": [
       "<class 'statsmodels.iolib.summary.Summary'>\n",
       "\"\"\"\n",
       "                                 OLS Regression Results                                \n",
       "=======================================================================================\n",
       "Dep. Variable:                  Price   R-squared (uncentered):                   0.882\n",
       "Model:                            OLS   Adj. R-squared (uncentered):              0.880\n",
       "Method:                 Least Squares   F-statistic:                              581.5\n",
       "Date:                Sat, 29 Jun 2024   Prob (F-statistic):                    6.66e-38\n",
       "Time:                        22:36:07   Log-Likelihood:                         -1099.1\n",
       "No. Observations:                  79   AIC:                                      2200.\n",
       "Df Residuals:                      78   BIC:                                      2203.\n",
       "Df Model:                           1                                                  \n",
       "Covariance Type:            nonrobust                                                  \n",
       "==============================================================================\n",
       "                 coef    std err          t      P>|t|      [0.025      0.975]\n",
       "------------------------------------------------------------------------------\n",
       "Area         115.5052      4.790     24.114      0.000     105.969     125.041\n",
       "==============================================================================\n",
       "Omnibus:                        0.456   Durbin-Watson:                   2.302\n",
       "Prob(Omnibus):                  0.796   Jarque-Bera (JB):                0.587\n",
       "Skew:                          -0.158   Prob(JB):                        0.746\n",
       "Kurtosis:                       2.721   Cond. No.                         1.00\n",
       "==============================================================================\n",
       "\n",
       "Notes:\n",
       "[1] R² is computed without centering (uncentered) since the model does not contain a constant.\n",
       "[2] Standard Errors assume that the covariance matrix of the errors is correctly specified.\n",
       "\"\"\""
      ]
     },
     "execution_count": 27,
     "metadata": {},
     "output_type": "execute_result"
    }
   ],
   "source": [
    "model_OLS = sm.OLS(y_train, x_train)\n",
    "results = model_OLS.fit()\n",
    "results.summary()\n",
    "#OLS-ordinary least squares:It is a type of linear regression model for estimating the parameters in a linear regression model. The goal of OLS is to find the line that minimizes the sum of squared differences (of residuals) between observed values and values predicted by the model.\n",
    "#It assumes linear relationship between the dependent and independent variables of the model and expresses the dependent variable 'y' as a linear combination of one or more independent variables 'x'.\n",
    "#Objective of OLS is to estimate the coefficients Beta(i)such that the sum of squared residuals is minimized.\n",
    "#Assumptions of OLS- The relationship between dependent and independent variables is linear, the observations are independent of each other and there is constant variance of the errors. The errors are normally distributed and there is no multi-collinearity meaning that the independent variables are not highly correlated.\n",
    "#Note-OLS does not perform well generally if the assumptions are violated"
   ]
  },
  {
   "cell_type": "code",
   "execution_count": 28,
   "id": "2aee6644",
   "metadata": {},
   "outputs": [],
   "source": [
    "y_pred_OLS = results.predict(x_test)"
   ]
  },
  {
   "cell_type": "code",
   "execution_count": 29,
   "id": "a6d204ad",
   "metadata": {},
   "outputs": [
    {
     "data": {
      "text/plain": [
       "72819053676.66666"
      ]
     },
     "execution_count": 29,
     "metadata": {},
     "output_type": "execute_result"
    }
   ],
   "source": [
    "mse_OLS = mean_squared_error(y_test, y_pred_OLS)\n",
    "mse_OLS"
   ]
  },
  {
   "cell_type": "code",
   "execution_count": 30,
   "id": "cf65e6ad",
   "metadata": {},
   "outputs": [
    {
     "data": {
      "text/plain": [
       "269850.0577666543"
      ]
     },
     "execution_count": 30,
     "metadata": {},
     "output_type": "execute_result"
    }
   ],
   "source": [
    "rmse_OLS = np.sqrt(mse_OLS)\n",
    "rmse_OLS"
   ]
  },
  {
   "cell_type": "code",
   "execution_count": 31,
   "id": "8b1f6924",
   "metadata": {},
   "outputs": [
    {
     "data": {
      "text/plain": [
       "240286.88473731125"
      ]
     },
     "execution_count": 31,
     "metadata": {},
     "output_type": "execute_result"
    }
   ],
   "source": [
    "mae_OLS = mean_absolute_error(y_test, y_pred_OLS)\n",
    "mae_OLS"
   ]
  }
 ],
 "metadata": {
  "kernelspec": {
   "display_name": "Python 3 (ipykernel)",
   "language": "python",
   "name": "python3"
  },
  "language_info": {
   "codemirror_mode": {
    "name": "ipython",
    "version": 3
   },
   "file_extension": ".py",
   "mimetype": "text/x-python",
   "name": "python",
   "nbconvert_exporter": "python",
   "pygments_lexer": "ipython3",
   "version": "3.10.13"
  }
 },
 "nbformat": 4,
 "nbformat_minor": 5
}
